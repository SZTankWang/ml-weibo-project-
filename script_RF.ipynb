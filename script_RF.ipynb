{
  "nbformat": 4,
  "nbformat_minor": 0,
  "metadata": {
    "colab": {
      "name": "RF-script.ipynb",
      "provenance": [],
      "collapsed_sections": []
    },
    "kernelspec": {
      "name": "python3",
      "display_name": "Python 3"
    },
    "language_info": {
      "name": "python"
    }
  },
  "cells": [
    {
      "cell_type": "code",
      "metadata": {
        "id": "2tJ7sJFDrArD"
      },
      "source": [
        "import re\n",
        "import pandas as pd\n",
        "import time\n",
        "import sklearn\n",
        "from sklearn.linear_model import LinearRegression\n",
        "from sklearn.linear_model import SGDRegressor\n",
        "from sklearn.multioutput import MultiOutputRegressor\n",
        "\n",
        "\n",
        "import math as m\n",
        "import random as r\n",
        "import numpy as np\n"
      ],
      "execution_count": 1,
      "outputs": []
    },
    {
      "cell_type": "code",
      "metadata": {
        "id": "UmE5n7OBYnbq"
      },
      "source": [
        ""
      ],
      "execution_count": null,
      "outputs": []
    },
    {
      "cell_type": "code",
      "metadata": {
        "colab": {
          "base_uri": "https://localhost:8080/",
          "height": 204
        },
        "id": "KHeGzCtCsYQt",
        "outputId": "76dea301-4a09-49fa-f638-2d79b1c6707e"
      },
      "source": [
        "df = pd.read_excel(\"raw_data.xlsx\",skiprows=1,usecols=[\"微博正文\",\"点赞数\",\"转发数\",\"评论数\"])\n",
        "df.head()"
      ],
      "execution_count": 2,
      "outputs": [
        {
          "output_type": "execute_result",
          "data": {
            "text/html": [
              "<div>\n",
              "<style scoped>\n",
              "    .dataframe tbody tr th:only-of-type {\n",
              "        vertical-align: middle;\n",
              "    }\n",
              "\n",
              "    .dataframe tbody tr th {\n",
              "        vertical-align: top;\n",
              "    }\n",
              "\n",
              "    .dataframe thead th {\n",
              "        text-align: right;\n",
              "    }\n",
              "</style>\n",
              "<table border=\"1\" class=\"dataframe\">\n",
              "  <thead>\n",
              "    <tr style=\"text-align: right;\">\n",
              "      <th></th>\n",
              "      <th>微博正文</th>\n",
              "      <th>点赞数</th>\n",
              "      <th>转发数</th>\n",
              "      <th>评论数</th>\n",
              "    </tr>\n",
              "  </thead>\n",
              "  <tbody>\n",
              "    <tr>\n",
              "      <th>0</th>\n",
              "      <td>【#你好，明天#】岁末年初，即便你的年终盘点一言难尽，但新年的flag仍然计日可期。需要抓住...</td>\n",
              "      <td>5389</td>\n",
              "      <td>1997</td>\n",
              "      <td>406</td>\n",
              "    </tr>\n",
              "    <tr>\n",
              "      <th>1</th>\n",
              "      <td>【今天，发条微博，向这些“闪亮的名字”致敬】南仁东、林俊德、张超、王继才、黄群、宋月才、姜开...</td>\n",
              "      <td>6826</td>\n",
              "      <td>1268</td>\n",
              "      <td>289</td>\n",
              "    </tr>\n",
              "    <tr>\n",
              "      <th>2</th>\n",
              "      <td>【夜读：这一年，谢谢自己】转眼间，2018年就要过去了。有时候我们很怕，怕自己的成长速度跟不...</td>\n",
              "      <td>6565</td>\n",
              "      <td>4326</td>\n",
              "      <td>580</td>\n",
              "    </tr>\n",
              "    <tr>\n",
              "      <th>3</th>\n",
              "      <td>【小调查：跨年夜，你如何度过的？】#2018最后一天#，你是如何度过的？陪在家人身边？宅在家...</td>\n",
              "      <td>919</td>\n",
              "      <td>2562</td>\n",
              "      <td>5281</td>\n",
              "    </tr>\n",
              "    <tr>\n",
              "      <th>4</th>\n",
              "      <td>【揭秘！习主席书架上的新变化】今晚，习近平主席发表了#2019新年贺词#。这一次，习主席书架...</td>\n",
              "      <td>6513</td>\n",
              "      <td>1758</td>\n",
              "      <td>440</td>\n",
              "    </tr>\n",
              "  </tbody>\n",
              "</table>\n",
              "</div>"
            ],
            "text/plain": [
              "                                                微博正文   点赞数   转发数   评论数\n",
              "0  【#你好，明天#】岁末年初，即便你的年终盘点一言难尽，但新年的flag仍然计日可期。需要抓住...  5389  1997   406\n",
              "1  【今天，发条微博，向这些“闪亮的名字”致敬】南仁东、林俊德、张超、王继才、黄群、宋月才、姜开...  6826  1268   289\n",
              "2  【夜读：这一年，谢谢自己】转眼间，2018年就要过去了。有时候我们很怕，怕自己的成长速度跟不...  6565  4326   580\n",
              "3  【小调查：跨年夜，你如何度过的？】#2018最后一天#，你是如何度过的？陪在家人身边？宅在家...   919  2562  5281\n",
              "4  【揭秘！习主席书架上的新变化】今晚，习近平主席发表了#2019新年贺词#。这一次，习主席书架...  6513  1758   440"
            ]
          },
          "metadata": {
            "tags": []
          },
          "execution_count": 2
        }
      ]
    },
    {
      "cell_type": "code",
      "metadata": {
        "colab": {
          "base_uri": "https://localhost:8080/",
          "height": 204
        },
        "id": "Nw9LmeF8ttQF",
        "outputId": "25a7d5c7-1c8b-446a-e680-363f57717704"
      },
      "source": [
        "df = df.rename(columns = {'微博正文':'text', '点赞数':'like', '转发数':'comment','评论数':'forward'}, inplace=False)\n",
        "df.head()"
      ],
      "execution_count": 3,
      "outputs": [
        {
          "output_type": "execute_result",
          "data": {
            "text/html": [
              "<div>\n",
              "<style scoped>\n",
              "    .dataframe tbody tr th:only-of-type {\n",
              "        vertical-align: middle;\n",
              "    }\n",
              "\n",
              "    .dataframe tbody tr th {\n",
              "        vertical-align: top;\n",
              "    }\n",
              "\n",
              "    .dataframe thead th {\n",
              "        text-align: right;\n",
              "    }\n",
              "</style>\n",
              "<table border=\"1\" class=\"dataframe\">\n",
              "  <thead>\n",
              "    <tr style=\"text-align: right;\">\n",
              "      <th></th>\n",
              "      <th>text</th>\n",
              "      <th>like</th>\n",
              "      <th>comment</th>\n",
              "      <th>forward</th>\n",
              "    </tr>\n",
              "  </thead>\n",
              "  <tbody>\n",
              "    <tr>\n",
              "      <th>0</th>\n",
              "      <td>【#你好，明天#】岁末年初，即便你的年终盘点一言难尽，但新年的flag仍然计日可期。需要抓住...</td>\n",
              "      <td>5389</td>\n",
              "      <td>1997</td>\n",
              "      <td>406</td>\n",
              "    </tr>\n",
              "    <tr>\n",
              "      <th>1</th>\n",
              "      <td>【今天，发条微博，向这些“闪亮的名字”致敬】南仁东、林俊德、张超、王继才、黄群、宋月才、姜开...</td>\n",
              "      <td>6826</td>\n",
              "      <td>1268</td>\n",
              "      <td>289</td>\n",
              "    </tr>\n",
              "    <tr>\n",
              "      <th>2</th>\n",
              "      <td>【夜读：这一年，谢谢自己】转眼间，2018年就要过去了。有时候我们很怕，怕自己的成长速度跟不...</td>\n",
              "      <td>6565</td>\n",
              "      <td>4326</td>\n",
              "      <td>580</td>\n",
              "    </tr>\n",
              "    <tr>\n",
              "      <th>3</th>\n",
              "      <td>【小调查：跨年夜，你如何度过的？】#2018最后一天#，你是如何度过的？陪在家人身边？宅在家...</td>\n",
              "      <td>919</td>\n",
              "      <td>2562</td>\n",
              "      <td>5281</td>\n",
              "    </tr>\n",
              "    <tr>\n",
              "      <th>4</th>\n",
              "      <td>【揭秘！习主席书架上的新变化】今晚，习近平主席发表了#2019新年贺词#。这一次，习主席书架...</td>\n",
              "      <td>6513</td>\n",
              "      <td>1758</td>\n",
              "      <td>440</td>\n",
              "    </tr>\n",
              "  </tbody>\n",
              "</table>\n",
              "</div>"
            ],
            "text/plain": [
              "                                                text  like  comment  forward\n",
              "0  【#你好，明天#】岁末年初，即便你的年终盘点一言难尽，但新年的flag仍然计日可期。需要抓住...  5389     1997      406\n",
              "1  【今天，发条微博，向这些“闪亮的名字”致敬】南仁东、林俊德、张超、王继才、黄群、宋月才、姜开...  6826     1268      289\n",
              "2  【夜读：这一年，谢谢自己】转眼间，2018年就要过去了。有时候我们很怕，怕自己的成长速度跟不...  6565     4326      580\n",
              "3  【小调查：跨年夜，你如何度过的？】#2018最后一天#，你是如何度过的？陪在家人身边？宅在家...   919     2562     5281\n",
              "4  【揭秘！习主席书架上的新变化】今晚，习近平主席发表了#2019新年贺词#。这一次，习主席书架...  6513     1758      440"
            ]
          },
          "metadata": {
            "tags": []
          },
          "execution_count": 3
        }
      ]
    },
    {
      "cell_type": "code",
      "metadata": {
        "id": "19fGoewHty8g"
      },
      "source": [
        "f = open(\"tfidf.txt\", 'r',encoding=\"utf8\")\n",
        "allsentences = f.readlines()\n",
        "\n",
        "for i in range(len(allsentences)):\n",
        "  allsentences[i] = allsentences[i].strip('\\n')\n",
        "y = df[['like','comment','forward']]\n",
        "\n",
        "X_train, X_test, y_train, y_test = sklearn.model_selection.train_test_split(allsentences, y, train_size=.7, test_size=.3, random_state=0, shuffle=True, stratify=None)\n",
        "f.close()"
      ],
      "execution_count": 12,
      "outputs": []
    },
    {
      "cell_type": "code",
      "metadata": {
        "colab": {
          "base_uri": "https://localhost:8080/"
        },
        "id": "aZGiXRczwhLC",
        "outputId": "f653ee13-1065-4df6-e1c5-d3cfc1fcf60a"
      },
      "source": [
        "print(y_train.loc[y_train[\"forward\"]==0])"
      ],
      "execution_count": 22,
      "outputs": [
        {
          "output_type": "stream",
          "text": [
            "       like  comment  forward\n",
            "10202     0        0        0\n",
            "30732     0        0        0\n",
            "58647     0        0        0\n",
            "30248   425      184        0\n",
            "62359     0        0        0\n",
            "...     ...      ...      ...\n",
            "34897  2237      433        0\n",
            "73255     0        0        0\n",
            "10194     0        0        0\n",
            "20177  1447      519        0\n",
            "49747     0        0        0\n",
            "\n",
            "[346 rows x 3 columns]\n"
          ],
          "name": "stdout"
        }
      ]
    },
    {
      "cell_type": "code",
      "metadata": {
        "colab": {
          "base_uri": "https://localhost:8080/",
          "height": 80
        },
        "id": "OFiG56IyRIaT",
        "outputId": "47236e10-dfac-4f28-bffe-bf0ac366809c"
      },
      "source": [
        "y_train.loc[[10202]]"
      ],
      "execution_count": 5,
      "outputs": [
        {
          "output_type": "execute_result",
          "data": {
            "text/html": [
              "<div>\n",
              "<style scoped>\n",
              "    .dataframe tbody tr th:only-of-type {\n",
              "        vertical-align: middle;\n",
              "    }\n",
              "\n",
              "    .dataframe tbody tr th {\n",
              "        vertical-align: top;\n",
              "    }\n",
              "\n",
              "    .dataframe thead th {\n",
              "        text-align: right;\n",
              "    }\n",
              "</style>\n",
              "<table border=\"1\" class=\"dataframe\">\n",
              "  <thead>\n",
              "    <tr style=\"text-align: right;\">\n",
              "      <th></th>\n",
              "      <th>like</th>\n",
              "      <th>comment</th>\n",
              "      <th>forward</th>\n",
              "    </tr>\n",
              "  </thead>\n",
              "  <tbody>\n",
              "    <tr>\n",
              "      <th>10202</th>\n",
              "      <td>0</td>\n",
              "      <td>0</td>\n",
              "      <td>0</td>\n",
              "    </tr>\n",
              "  </tbody>\n",
              "</table>\n",
              "</div>"
            ],
            "text/plain": [
              "       like  comment  forward\n",
              "10202     0        0        0"
            ]
          },
          "metadata": {
            "tags": []
          },
          "execution_count": 5
        }
      ]
    },
    {
      "cell_type": "code",
      "metadata": {
        "colab": {
          "base_uri": "https://localhost:8080/"
        },
        "id": "Q_0aUDyit0Xr",
        "outputId": "35ddb4d5-f5cf-4a12-8b2d-d2b63c94ef57"
      },
      "source": [
        "from sklearn.feature_extraction.text import CountVectorizer\n",
        "from sklearn.feature_extraction.text import TfidfTransformer\n",
        "from sklearn.ensemble import RandomForestRegressor\n",
        "from sklearn.metrics import mean_squared_error\n",
        "from sklearn.metrics import mean_absolute_error\n",
        "\n",
        "#该类会将文本中的词语转换为词频矩阵，矩阵元素a[i][j] 表示j词在i类文本下的词频\n",
        "vectorizer = CountVectorizer(max_features=100000)\n",
        "#该类会统计每个词语的tf-idf权值\n",
        "tf_idf_transformer = TfidfTransformer()\n",
        "#将文本转为词频矩阵并计算tf-idf\n",
        "X_train = tf_idf_transformer.fit_transform(vectorizer.fit_transform(X_train))\n",
        "\n",
        "# normalize y_train, y_test\n",
        "y_train = np.log(y_train)\n",
        "print(type(y_train))\n",
        "y_train = y_train.replace(-np.Inf,0)\n",
        "y_test = np.log(y_test)\n",
        "\n",
        "y_test = y_test.replace(-np.Inf,0)\n",
        "\n"
      ],
      "execution_count": 14,
      "outputs": [
        {
          "output_type": "stream",
          "text": [
            "<class 'pandas.core.frame.DataFrame'>\n"
          ],
          "name": "stdout"
        },
        {
          "output_type": "stream",
          "text": [
            "/usr/local/lib/python3.7/dist-packages/ipykernel_launcher.py:15: RuntimeWarning: divide by zero encountered in log\n",
            "  from ipykernel import kernelapp as app\n",
            "/usr/local/lib/python3.7/dist-packages/ipykernel_launcher.py:18: RuntimeWarning: divide by zero encountered in log\n"
          ],
          "name": "stderr"
        }
      ]
    },
    {
      "cell_type": "code",
      "metadata": {
        "colab": {
          "base_uri": "https://localhost:8080/",
          "height": 80
        },
        "id": "-qrkPwb0NTBF",
        "outputId": "3e552d58-11a9-44f6-c6fb-bf473cb620b8"
      },
      "source": [
        "y_train.loc[[10202]]"
      ],
      "execution_count": 7,
      "outputs": [
        {
          "output_type": "execute_result",
          "data": {
            "text/html": [
              "<div>\n",
              "<style scoped>\n",
              "    .dataframe tbody tr th:only-of-type {\n",
              "        vertical-align: middle;\n",
              "    }\n",
              "\n",
              "    .dataframe tbody tr th {\n",
              "        vertical-align: top;\n",
              "    }\n",
              "\n",
              "    .dataframe thead th {\n",
              "        text-align: right;\n",
              "    }\n",
              "</style>\n",
              "<table border=\"1\" class=\"dataframe\">\n",
              "  <thead>\n",
              "    <tr style=\"text-align: right;\">\n",
              "      <th></th>\n",
              "      <th>like</th>\n",
              "      <th>comment</th>\n",
              "      <th>forward</th>\n",
              "    </tr>\n",
              "  </thead>\n",
              "  <tbody>\n",
              "    <tr>\n",
              "      <th>10202</th>\n",
              "      <td>0.0</td>\n",
              "      <td>0.0</td>\n",
              "      <td>0.0</td>\n",
              "    </tr>\n",
              "  </tbody>\n",
              "</table>\n",
              "</div>"
            ],
            "text/plain": [
              "       like  comment  forward\n",
              "10202   0.0      0.0      0.0"
            ]
          },
          "metadata": {
            "tags": []
          },
          "execution_count": 7
        }
      ]
    },
    {
      "cell_type": "code",
      "metadata": {
        "colab": {
          "base_uri": "https://localhost:8080/"
        },
        "id": "dJPjZarTMBsx",
        "outputId": "34fdfc11-6a9d-45a3-9f25-cf2b5462b1b4"
      },
      "source": [
        "model = RandomForestRegressor(max_depth=10, random_state=0)\n",
        "\n",
        "model.fit(X_train,y_train)\n",
        "\n",
        "print(\"training done\")"
      ],
      "execution_count": 8,
      "outputs": [
        {
          "output_type": "stream",
          "text": [
            "training done\n"
          ],
          "name": "stdout"
        }
      ]
    },
    {
      "cell_type": "code",
      "metadata": {
        "colab": {
          "base_uri": "https://localhost:8080/"
        },
        "id": "HkhZI7BoUCBm",
        "outputId": "5d9d0a9e-6ab4-4dff-eb0b-6ad105ad4136"
      },
      "source": [
        "y_pred = model.predict(X_train)\n",
        "X_test = tf_idf_transformer.transform(vectorizer.transform(X_test))\n",
        "print(\"MAE ON TRAINING SET BEFORE TAKING EXPONENTIAL: \",mean_absolute_error(y_train, y_pred))\n",
        "print(\"MAE ON TRAINING SET AFTER TAKING EXPONENTIAL: \",mean_absolute_error(np.exp(y_train), np.exp(y_pred)))\n",
        "\n",
        "y_pred_test = model.predict(X_test)\n",
        "\n",
        "print(\"MAE ON TESTING SET BEFORE TAKING EXPONENTIAL: \",mean_absolute_error(y_test, y_pred_test))\n",
        "print(\"MAE ON TESTING SET AFTER TAKING EXPONENTIAL: \",mean_absolute_error(np.exp(y_test), np.exp(y_pred_test)))\n"
      ],
      "execution_count": 15,
      "outputs": [
        {
          "output_type": "stream",
          "text": [
            "MAE ON TRAINING SET BEFORE TAKING EXPONENTIAL:  0.9864686604505342\n",
            "MAE ON TRAINING SET AFTER TAKING EXPONENTIAL:  6134.717626094071\n",
            "MAE ON TESTING SET BEFORE TAKING EXPONENTIAL:  1.010855498741778\n",
            "MAE ON TESTING SET AFTER TAKING EXPONENTIAL:  6122.012315864744\n"
          ],
          "name": "stdout"
        }
      ]
    },
    {
      "cell_type": "code",
      "metadata": {
        "colab": {
          "base_uri": "https://localhost:8080/"
        },
        "id": "fm2nr3F3Y-4O",
        "outputId": "19210653-ff4e-49c0-baec-9e5ff4ccfde9"
      },
      "source": [
        "y_pred"
      ],
      "execution_count": 10,
      "outputs": [
        {
          "output_type": "execute_result",
          "data": {
            "text/plain": [
              "array([[8.11567903, 7.08030661, 6.87657462],\n",
              "       [9.50975128, 7.22100616, 7.12738314],\n",
              "       [8.64943161, 7.53895486, 6.82916885],\n",
              "       ...,\n",
              "       [7.92147762, 7.95682586, 6.49033136],\n",
              "       [7.92147762, 7.95682586, 6.49033136],\n",
              "       [5.83172789, 6.81210254, 6.09048184]])"
            ]
          },
          "metadata": {
            "tags": []
          },
          "execution_count": 10
        }
      ]
    },
    {
      "cell_type": "code",
      "metadata": {
        "colab": {
          "base_uri": "https://localhost:8080/"
        },
        "id": "UDZB_cf4VFft",
        "outputId": "85c20947-2d41-49b2-e7b0-7a124d54ebd4"
      },
      "source": [
        "test_text = \"你好 明天 岁末 年初 年终 盘点 一言难尽 新年 flag 仍然 计日可期 需要 抓住 联结 历史 未来 每一个 当下 今日 胜 昨日 奋斗 唯一 解 一时 千载千载 一时 面对 未来 值得 庆幸 努力 奔跑 都是 追梦人 再见 2018 你好 2019 原图\"\n",
        "x_test = [test_text]\n",
        "x_test = tf_idf_transformer.transform(vectorizer.transform(x_test))\n",
        "y_result = model.predict(x_test)\n",
        "y_result = np.exp(y_result)\n",
        "y_result"
      ],
      "execution_count": 16,
      "outputs": [
        {
          "output_type": "execute_result",
          "data": {
            "text/plain": [
              "array([[2221.26793748, 1125.70152789,  691.11284263]])"
            ]
          },
          "metadata": {
            "tags": []
          },
          "execution_count": 16
        }
      ]
    }
  ]
}