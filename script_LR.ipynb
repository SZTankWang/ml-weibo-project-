{
 "cells": [
  {
   "cell_type": "code",
   "execution_count": 2,
   "metadata": {
    "colab": {
     "base_uri": "https://localhost:8080/"
    },
    "id": "Yh-GhbTxsl5Y",
    "outputId": "c600f6c3-6c8e-4f66-af2b-0d7fc1bc4f4d"
   },
   "outputs": [
    {
     "name": "stdout",
     "output_type": "stream",
     "text": [
      "Requirement already satisfied: paddlepaddle in e:\\anaconda\\lib\\site-packages (2.0.2)\n",
      "Requirement already satisfied: Pillow in e:\\anaconda\\lib\\site-packages (from paddlepaddle) (8.0.1)\n",
      "Requirement already satisfied: gast==0.3.3; platform_system == \"Windows\" in e:\\anaconda\\lib\\site-packages (from paddlepaddle) (0.3.3)\n",
      "Requirement already satisfied: numpy<=1.19.3,>=1.13; python_version >= \"3.5\" and platform_system == \"Windows\" in e:\\anaconda\\lib\\site-packages (from paddlepaddle) (1.19.2)\n",
      "Requirement already satisfied: requests>=2.20.0 in e:\\anaconda\\lib\\site-packages (from paddlepaddle) (2.23.0)\n",
      "Requirement already satisfied: astor in e:\\anaconda\\lib\\site-packages (from paddlepaddle) (0.8.1)\n",
      "Requirement already satisfied: six in e:\\anaconda\\lib\\site-packages (from paddlepaddle) (1.15.0)\n",
      "Requirement already satisfied: protobuf>=3.1.0 in e:\\anaconda\\lib\\site-packages (from paddlepaddle) (3.16.0)\n",
      "Requirement already satisfied: decorator in e:\\anaconda\\lib\\site-packages (from paddlepaddle) (4.4.2)\n",
      "Requirement already satisfied: idna<3,>=2.5 in e:\\anaconda\\lib\\site-packages (from requests>=2.20.0->paddlepaddle) (2.10)\n",
      "Requirement already satisfied: chardet<4,>=3.0.2 in e:\\anaconda\\lib\\site-packages (from requests>=2.20.0->paddlepaddle) (3.0.4)\n",
      "Requirement already satisfied: urllib3!=1.25.0,!=1.25.1,<1.26,>=1.21.1 in e:\\anaconda\\lib\\site-packages (from requests>=2.20.0->paddlepaddle) (1.25.11)\n",
      "Requirement already satisfied: certifi>=2017.4.17 in e:\\anaconda\\lib\\site-packages (from requests>=2.20.0->paddlepaddle) (2020.6.20)\n",
      "Note: you may need to restart the kernel to use updated packages.\n",
      "Collecting jieba\n",
      "  Using cached jieba-0.42.1.tar.gz (19.2 MB)\n",
      "Building wheels for collected packages: jieba\n",
      "  Building wheel for jieba (setup.py): started\n",
      "  Building wheel for jieba (setup.py): finished with status 'done'\n",
      "  Created wheel for jieba: filename=jieba-0.42.1-py3-none-any.whl size=19314482 sha256=f21629f89713d278298896f8392ec3666652e8368585720a9a47edfe74e78c70\n",
      "  Stored in directory: c:\\users\\mybook\\appdata\\local\\pip\\cache\\wheels\\ca\\38\\d8\\dfdfe73bec1d12026b30cb7ce8da650f3f0ea2cf155ea018ae\n",
      "Successfully built jieba\n",
      "Installing collected packages: jieba\n",
      "Successfully installed jieba-0.42.1\n",
      "Note: you may need to restart the kernel to use updated packages.\n"
     ]
    }
   ],
   "source": [
    "# !git clone https://github.com/SZTankWang/ml-weibo-project-.git\n",
    "%pip install paddlepaddle\n",
    "%pip install jieba --upgrade\n",
    "# %pip install jieba\n",
    "# -tiny==1.6.1"
   ]
  },
  {
   "cell_type": "code",
   "execution_count": 1,
   "metadata": {
    "colab": {
     "base_uri": "https://localhost:8080/"
    },
    "id": "xhkj-yVRtS2h",
    "outputId": "0392206b-6eee-4f28-c9f0-731bdbc5f7c4"
   },
   "outputs": [
    {
     "name": "stderr",
     "output_type": "stream",
     "text": [
      "Paddle enabled successfully......\n",
      "2021-05-08 22:22:58,291 - DEBUG - Paddle enabled successfully......\n"
     ]
    }
   ],
   "source": [
    "import jieba\n",
    "import paddle\n",
    "import re\n",
    "import pandas as pd\n",
    "import time\n",
    "import sklearn\n",
    "from sklearn.linear_model import LinearRegression\n",
    "from sklearn.linear_model import SGDRegressor\n",
    "from sklearn.multioutput import MultiOutputRegressor\n",
    "\n",
    "\n",
    "import math as m\n",
    "import random as r\n",
    "import numpy as np\n",
    "\n",
    "paddle.enable_static()\n",
    "jieba.enable_paddle()# 启动paddle模式。 0.40版之后开始支持，早期版本不支持"
   ]
  },
  {
   "cell_type": "code",
   "execution_count": 2,
   "metadata": {
    "colab": {
     "base_uri": "https://localhost:8080/",
     "height": 204
    },
    "id": "Qpf8pXKgtTzx",
    "outputId": "c694a218-f157-4a1b-d9c9-e7bae124f3f1"
   },
   "outputs": [
    {
     "name": "stderr",
     "output_type": "stream",
     "text": [
      "E:\\Anaconda\\lib\\site-packages\\ipykernel\\ipkernel.py:287: DeprecationWarning: `should_run_async` will not call `transform_cell` automatically in the future. Please pass the result to `transformed_cell` argument and any exception that happen during thetransform in `preprocessing_exc_tuple` in IPython 7.17 and above.\n",
      "  and should_run_async(code)\n",
      "E:\\Anaconda\\lib\\site-packages\\xlrd\\xlsx.py:266: DeprecationWarning: This method will be removed in future versions.  Use 'tree.iter()' or 'list(tree.iter())' instead.\n",
      "  for elem in self.tree.iter() if Element_has_iter else self.tree.getiterator():\n",
      "E:\\Anaconda\\lib\\site-packages\\xlrd\\xlsx.py:312: DeprecationWarning: This method will be removed in future versions.  Use 'tree.iter()' or 'list(tree.iter())' instead.\n",
      "  for elem in self.tree.iter() if Element_has_iter else self.tree.getiterator():\n"
     ]
    },
    {
     "data": {
      "text/html": [
       "<div>\n",
       "<style scoped>\n",
       "    .dataframe tbody tr th:only-of-type {\n",
       "        vertical-align: middle;\n",
       "    }\n",
       "\n",
       "    .dataframe tbody tr th {\n",
       "        vertical-align: top;\n",
       "    }\n",
       "\n",
       "    .dataframe thead th {\n",
       "        text-align: right;\n",
       "    }\n",
       "</style>\n",
       "<table border=\"1\" class=\"dataframe\">\n",
       "  <thead>\n",
       "    <tr style=\"text-align: right;\">\n",
       "      <th></th>\n",
       "      <th>微博正文</th>\n",
       "      <th>点赞数</th>\n",
       "      <th>转发数</th>\n",
       "      <th>评论数</th>\n",
       "    </tr>\n",
       "  </thead>\n",
       "  <tbody>\n",
       "    <tr>\n",
       "      <th>0</th>\n",
       "      <td>【#你好，明天#】岁末年初，即便你的年终盘点一言难尽，但新年的flag仍然计日可期。需要抓住...</td>\n",
       "      <td>5389</td>\n",
       "      <td>1997</td>\n",
       "      <td>406</td>\n",
       "    </tr>\n",
       "    <tr>\n",
       "      <th>1</th>\n",
       "      <td>【今天，发条微博，向这些“闪亮的名字”致敬】南仁东、林俊德、张超、王继才、黄群、宋月才、姜开...</td>\n",
       "      <td>6826</td>\n",
       "      <td>1268</td>\n",
       "      <td>289</td>\n",
       "    </tr>\n",
       "    <tr>\n",
       "      <th>2</th>\n",
       "      <td>【夜读：这一年，谢谢自己】转眼间，2018年就要过去了。有时候我们很怕，怕自己的成长速度跟不...</td>\n",
       "      <td>6565</td>\n",
       "      <td>4326</td>\n",
       "      <td>580</td>\n",
       "    </tr>\n",
       "    <tr>\n",
       "      <th>3</th>\n",
       "      <td>【小调查：跨年夜，你如何度过的？】#2018最后一天#，你是如何度过的？陪在家人身边？宅在家...</td>\n",
       "      <td>919</td>\n",
       "      <td>2562</td>\n",
       "      <td>5281</td>\n",
       "    </tr>\n",
       "    <tr>\n",
       "      <th>4</th>\n",
       "      <td>【揭秘！习主席书架上的新变化】今晚，习近平主席发表了#2019新年贺词#。这一次，习主席书架...</td>\n",
       "      <td>6513</td>\n",
       "      <td>1758</td>\n",
       "      <td>440</td>\n",
       "    </tr>\n",
       "  </tbody>\n",
       "</table>\n",
       "</div>"
      ],
      "text/plain": [
       "                                                微博正文   点赞数   转发数   评论数\n",
       "0  【#你好，明天#】岁末年初，即便你的年终盘点一言难尽，但新年的flag仍然计日可期。需要抓住...  5389  1997   406\n",
       "1  【今天，发条微博，向这些“闪亮的名字”致敬】南仁东、林俊德、张超、王继才、黄群、宋月才、姜开...  6826  1268   289\n",
       "2  【夜读：这一年，谢谢自己】转眼间，2018年就要过去了。有时候我们很怕，怕自己的成长速度跟不...  6565  4326   580\n",
       "3  【小调查：跨年夜，你如何度过的？】#2018最后一天#，你是如何度过的？陪在家人身边？宅在家...   919  2562  5281\n",
       "4  【揭秘！习主席书架上的新变化】今晚，习近平主席发表了#2019新年贺词#。这一次，习主席书架...  6513  1758   440"
      ]
     },
     "execution_count": 2,
     "metadata": {},
     "output_type": "execute_result"
    }
   ],
   "source": [
    "df = pd.read_excel(\"data/raw_data.xlsx\",skiprows=1,usecols=[\"微博正文\",\"点赞数\",\"转发数\",\"评论数\"])\n",
    "df.head()"
   ]
  },
  {
   "cell_type": "code",
   "execution_count": 3,
   "metadata": {
    "colab": {
     "base_uri": "https://localhost:8080/",
     "height": 204
    },
    "id": "cxDU4AYltXIZ",
    "outputId": "c9fcdbe4-0142-4b53-cc93-e407f5db77ab"
   },
   "outputs": [
    {
     "name": "stderr",
     "output_type": "stream",
     "text": [
      "E:\\Anaconda\\lib\\site-packages\\ipykernel\\ipkernel.py:287: DeprecationWarning: `should_run_async` will not call `transform_cell` automatically in the future. Please pass the result to `transformed_cell` argument and any exception that happen during thetransform in `preprocessing_exc_tuple` in IPython 7.17 and above.\n",
      "  and should_run_async(code)\n"
     ]
    },
    {
     "data": {
      "text/html": [
       "<div>\n",
       "<style scoped>\n",
       "    .dataframe tbody tr th:only-of-type {\n",
       "        vertical-align: middle;\n",
       "    }\n",
       "\n",
       "    .dataframe tbody tr th {\n",
       "        vertical-align: top;\n",
       "    }\n",
       "\n",
       "    .dataframe thead th {\n",
       "        text-align: right;\n",
       "    }\n",
       "</style>\n",
       "<table border=\"1\" class=\"dataframe\">\n",
       "  <thead>\n",
       "    <tr style=\"text-align: right;\">\n",
       "      <th></th>\n",
       "      <th>text</th>\n",
       "      <th>like</th>\n",
       "      <th>comment</th>\n",
       "      <th>forward</th>\n",
       "    </tr>\n",
       "  </thead>\n",
       "  <tbody>\n",
       "    <tr>\n",
       "      <th>0</th>\n",
       "      <td>【#你好，明天#】岁末年初，即便你的年终盘点一言难尽，但新年的flag仍然计日可期。需要抓住...</td>\n",
       "      <td>5389</td>\n",
       "      <td>1997</td>\n",
       "      <td>406</td>\n",
       "    </tr>\n",
       "    <tr>\n",
       "      <th>1</th>\n",
       "      <td>【今天，发条微博，向这些“闪亮的名字”致敬】南仁东、林俊德、张超、王继才、黄群、宋月才、姜开...</td>\n",
       "      <td>6826</td>\n",
       "      <td>1268</td>\n",
       "      <td>289</td>\n",
       "    </tr>\n",
       "    <tr>\n",
       "      <th>2</th>\n",
       "      <td>【夜读：这一年，谢谢自己】转眼间，2018年就要过去了。有时候我们很怕，怕自己的成长速度跟不...</td>\n",
       "      <td>6565</td>\n",
       "      <td>4326</td>\n",
       "      <td>580</td>\n",
       "    </tr>\n",
       "    <tr>\n",
       "      <th>3</th>\n",
       "      <td>【小调查：跨年夜，你如何度过的？】#2018最后一天#，你是如何度过的？陪在家人身边？宅在家...</td>\n",
       "      <td>919</td>\n",
       "      <td>2562</td>\n",
       "      <td>5281</td>\n",
       "    </tr>\n",
       "    <tr>\n",
       "      <th>4</th>\n",
       "      <td>【揭秘！习主席书架上的新变化】今晚，习近平主席发表了#2019新年贺词#。这一次，习主席书架...</td>\n",
       "      <td>6513</td>\n",
       "      <td>1758</td>\n",
       "      <td>440</td>\n",
       "    </tr>\n",
       "  </tbody>\n",
       "</table>\n",
       "</div>"
      ],
      "text/plain": [
       "                                                text  like  comment forward\n",
       "0  【#你好，明天#】岁末年初，即便你的年终盘点一言难尽，但新年的flag仍然计日可期。需要抓住...  5389     1997     406\n",
       "1  【今天，发条微博，向这些“闪亮的名字”致敬】南仁东、林俊德、张超、王继才、黄群、宋月才、姜开...  6826     1268     289\n",
       "2  【夜读：这一年，谢谢自己】转眼间，2018年就要过去了。有时候我们很怕，怕自己的成长速度跟不...  6565     4326     580\n",
       "3  【小调查：跨年夜，你如何度过的？】#2018最后一天#，你是如何度过的？陪在家人身边？宅在家...   919     2562    5281\n",
       "4  【揭秘！习主席书架上的新变化】今晚，习近平主席发表了#2019新年贺词#。这一次，习主席书架...  6513     1758     440"
      ]
     },
     "execution_count": 3,
     "metadata": {},
     "output_type": "execute_result"
    }
   ],
   "source": [
    "df = df.rename(columns = {'微博正文':'text', '点赞数':'like', '转发数':'comment','评论数':'forward'}, inplace=False)\n",
    "df.head()"
   ]
  },
  {
   "cell_type": "markdown",
   "metadata": {
    "id": "8DsP47Uvwfs6"
   },
   "source": []
  },
  {
   "cell_type": "code",
   "execution_count": 4,
   "metadata": {
    "id": "mqRbygoXvX6F"
   },
   "outputs": [
    {
     "name": "stderr",
     "output_type": "stream",
     "text": [
      "E:\\Anaconda\\lib\\site-packages\\ipykernel\\ipkernel.py:287: DeprecationWarning: `should_run_async` will not call `transform_cell` automatically in the future. Please pass the result to `transformed_cell` argument and any exception that happen during thetransform in `preprocessing_exc_tuple` in IPython 7.17 and above.\n",
      "  and should_run_async(code)\n"
     ]
    }
   ],
   "source": [
    "f = open(\"data/tfidf.txt\", 'r',encoding=\"utf8\")\n",
    "allsentences = f.readlines()\n",
    "\n",
    "for i in range(len(allsentences)):\n",
    "  allsentences[i] = allsentences[i].strip('\\n')\n",
    "y = df[['like','comment','forward']]\n",
    "\n",
    "X_train, X_test, y_train, y_test = sklearn.model_selection.train_test_split(allsentences, y, train_size=.7, test_size=.3, random_state=0, shuffle=True, stratify=None)\n",
    "f.close()"
   ]
  },
  {
   "cell_type": "code",
   "execution_count": 32,
   "metadata": {
    "colab": {
     "base_uri": "https://localhost:8080/"
    },
    "id": "GGM0YiBw0J-Q",
    "outputId": "d24e6d6e-b3e3-4f32-9dfa-bdef73aa7c3c"
   },
   "outputs": [
    {
     "name": "stderr",
     "output_type": "stream",
     "text": [
      "E:\\Anaconda\\lib\\site-packages\\ipykernel\\ipkernel.py:287: DeprecationWarning: `should_run_async` will not call `transform_cell` automatically in the future. Please pass the result to `transformed_cell` argument and any exception that happen during thetransform in `preprocessing_exc_tuple` in IPython 7.17 and above.\n",
      "  and should_run_async(code)\n"
     ]
    },
    {
     "name": "stdout",
     "output_type": "stream",
     "text": [
      "<class 'scipy.sparse.csr.csr_matrix'>\n",
      "<class 'pandas.core.frame.DataFrame'>\n",
      "0 s iteration, start at 0, end at 10000\n",
      " \n",
      "1 s iteration, start at 10000, end at 20000\n",
      " \n",
      "2 s iteration, start at 20000, end at 30000\n",
      " \n",
      "3 s iteration, start at 30000, end at 40000\n",
      " \n",
      "4 s iteration, start at 40000, end at 50000\n",
      " \n",
      "5 s iteration, start at 50000, end at 60000\n",
      " \n",
      "6 s iteration, start at 60000, end at 70000\n",
      " \n"
     ]
    }
   ],
   "source": [
    "from sklearn.feature_extraction.text import CountVectorizer\n",
    "from sklearn.feature_extraction.text import TfidfTransformer\n",
    "\n",
    " \n",
    "#该类会将文本中的词语转换为词频矩阵，矩阵元素a[i][j] 表示j词在i类文本下的词频\n",
    "vectorizer = CountVectorizer(max_features=100000)\n",
    "#该类会统计每个词语的tf-idf权值\n",
    "tf_idf_transformer = TfidfTransformer()\n",
    "#将文本转为词频矩阵并计算tf-idf\n",
    "tf_idf = tf_idf_transformer.fit_transform(vectorizer.fit_transform(X_train))\n",
    "#将tf-idf矩阵抽取出来，元素a[i][j]表示j词在i类文本中的tf-idf权重\n",
    "# X_train_weight = np.asarray(tf_idf)\n",
    "# print(X_train_weight)\n",
    "# X_train_weight = tf_idf.toarray().astype(float)\n",
    " \n",
    "print(type(tf_idf))    \n",
    "\n",
    "\n",
    "# X_test_weight = tf_idf.toarray().astype(float)  # 测试集TF-IDF权重矩阵\n",
    "# X_test_weight.shape \n",
    "#print('输出x_train文本向量：')\n",
    "#print(X_train_weight)\n",
    "#print('输出x_test文本向量：')\n",
    "#print(X_test_weight)\n",
    "\n",
    "print(type(y_train))\n",
    "# model = LinearRegression().fit(X_train_weight, y_train)\n",
    "# y_train_pred = model.predict(X_train_weight)\n",
    "# y_test_pred = model.predict(X_test_weight)\n",
    "\n",
    "# train_error = sklearn.metrics.mean_squared_error(y_train, y_train_pred)\n",
    "# test_error = sklearn.metrics.mean_squared_error(y_test, y_test_pred)\n",
    "\n",
    "\n",
    "# use SGD partial fit\n",
    "model = MultiOutputRegressor(SGDRegressor(loss='squared_loss'))\n",
    "\n",
    "count = 0\n",
    "start = 0\n",
    "end = 0\n",
    "while count < (len(X_train)//10000):\n",
    "    start = count * 10000 \n",
    "    end = min((count+1) * 10000,len(X_train)-1)\n",
    "    print( '{} s iteration, start at {}, end at {}\\n '.format(count,start,end))\n",
    "    count += 1\n",
    "    \n",
    "    model.partial_fit(tf_idf[start:end].toarray(),y_train[start:end])\n",
    "    \n",
    "\n",
    "#对测试集进行tf-idf权重计算\n",
    "# tf_idf = tf_idf_transformer.transform(vectorizer.transform(X_test))"
   ]
  },
  {
   "cell_type": "code",
   "execution_count": 47,
   "metadata": {},
   "outputs": [
    {
     "name": "stderr",
     "output_type": "stream",
     "text": [
      "E:\\Anaconda\\lib\\site-packages\\ipykernel\\ipkernel.py:287: DeprecationWarning: `should_run_async` will not call `transform_cell` automatically in the future. Please pass the result to `transformed_cell` argument and any exception that happen during thetransform in `preprocessing_exc_tuple` in IPython 7.17 and above.\n",
      "  and should_run_async(code)\n"
     ]
    },
    {
     "name": "stdout",
     "output_type": "stream",
     "text": [
      "1327101982.564471\n"
     ]
    }
   ],
   "source": [
    "y_train_pred = model.predict(tf_idf[:1000].toarray())\n",
    "train_error = sklearn.metrics.mean_squared_error(y_train[:1000], y_train_pred[:1000])\n",
    "print(train_error)"
   ]
  },
  {
   "cell_type": "code",
   "execution_count": 40,
   "metadata": {
    "id": "XI_0QJ06izb7"
   },
   "outputs": [
    {
     "name": "stderr",
     "output_type": "stream",
     "text": [
      "E:\\Anaconda\\lib\\site-packages\\ipykernel\\ipkernel.py:287: DeprecationWarning: `should_run_async` will not call `transform_cell` automatically in the future. Please pass the result to `transformed_cell` argument and any exception that happen during thetransform in `preprocessing_exc_tuple` in IPython 7.17 and above.\n",
      "  and should_run_async(code)\n"
     ]
    }
   ],
   "source": [
    "test_text = \"7日 四川 雅安 达瓦更扎 景区 发布 一则 寻人启事 寻找 两位 五一 假期  景区 捡拾 垃圾 游客 景区 表示 两名 游客 送上 川西 最美 雪山 游客 VIP 待遇 本人 户口本 所有 家人 终身 免费 游玩 达瓦更扎 景区 线索 请 联系 0835-5901900\""
   ]
  },
  {
   "cell_type": "code",
   "execution_count": 42,
   "metadata": {},
   "outputs": [
    {
     "data": {
      "text/plain": [
       "array([[14049.4830145 , 12853.92637801,  1497.14544825]])"
      ]
     },
     "execution_count": 42,
     "metadata": {},
     "output_type": "execute_result"
    }
   ],
   "source": [
    "test = tf_idf_transformer.transform(vectorizer.transform([test_text])).toarray()\n",
    "model.predict(test)\n"
   ]
  },
  {
   "cell_type": "code",
   "execution_count": 37,
   "metadata": {},
   "outputs": [
    {
     "name": "stdout",
     "output_type": "stream",
     "text": [
      "like       253\n",
      "comment    573\n",
      "forward    672\n",
      "Name: 54824, dtype: object\n",
      "各国 治黄 美国 华达州 部分 地区 外 性交易 属于 违法行为 英国 涉及 妓院 活动 认为 犯罪 可能 面临 长达 7年 监禁 日本 扫黄 重点 欺骗 迫使 卖淫 经营 色情业 行为 提供 资金 看看 国家 管理 情色业 httptcn8Fj7yNq 原图\n"
     ]
    }
   ],
   "source": [
    "print(y_test.iloc[0])\n",
    "print(X_test[0])\n"
   ]
  },
  {
   "cell_type": "code",
   "execution_count": null,
   "metadata": {},
   "outputs": [],
   "source": []
  }
 ],
 "metadata": {
  "colab": {
   "collapsed_sections": [],
   "name": "5-8.ipynb",
   "provenance": []
  },
  "kernelspec": {
   "display_name": "Python 3",
   "language": "python",
   "name": "python3"
  },
  "language_info": {
   "codemirror_mode": {
    "name": "ipython",
    "version": 3
   },
   "file_extension": ".py",
   "mimetype": "text/x-python",
   "name": "python",
   "nbconvert_exporter": "python",
   "pygments_lexer": "ipython3",
   "version": "3.8.5"
  }
 },
 "nbformat": 4,
 "nbformat_minor": 1
}
